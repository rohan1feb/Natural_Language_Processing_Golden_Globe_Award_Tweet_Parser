{
 "cells": [
  {
   "cell_type": "markdown",
   "id": "60d3a34c",
   "metadata": {},
   "source": [
    "## Group 15 TM names : \n",
    "- Ahmed   : 23PGAI0120\n",
    "- Akash Deshwani: 23PGAI0035\n",
    "- Harshada Suresh Jadhav: 23PGAI0101\n",
    "- Rohan Mehta: 23PGAI0001"
   ]
  },
  {
   "cell_type": "markdown",
   "id": "2227179e",
   "metadata": {},
   "source": [
    "## Installing the required packages"
   ]
  },
  {
   "cell_type": "code",
   "execution_count": 1,
   "id": "6b234604",
   "metadata": {},
   "outputs": [
    {
     "name": "stdout",
     "output_type": "stream",
     "text": [
      "Collecting bs4\n",
      "  Using cached bs4-0.0.1.tar.gz (1.1 kB)\n",
      "  Preparing metadata (setup.py): started\n",
      "  Preparing metadata (setup.py): finished with status 'done'\n",
      "Collecting beautifulsoup4\n",
      "  Using cached beautifulsoup4-4.11.2-py3-none-any.whl (129 kB)\n",
      "Collecting soupsieve>1.2\n",
      "  Downloading soupsieve-2.4-py3-none-any.whl (37 kB)\n",
      "Installing collected packages: soupsieve, beautifulsoup4, bs4\n",
      "  Running setup.py install for bs4: started\n",
      "  Running setup.py install for bs4: finished with status 'done'\n",
      "Successfully installed beautifulsoup4-4.11.2 bs4-0.0.1 soupsieve-2.4\n"
     ]
    },
    {
     "name": "stderr",
     "output_type": "stream",
     "text": [
      "  DEPRECATION: bs4 is being installed using the legacy 'setup.py install' method, because it does not have a 'pyproject.toml' and the 'wheel' package is not installed. pip 23.1 will enforce this behaviour change. A possible replacement is to enable the '--use-pep517' option. Discussion can be found at https://github.com/pypa/pip/issues/8559\n"
     ]
    },
    {
     "name": "stdout",
     "output_type": "stream",
     "text": [
      "Requirement already satisfied: numpy in c:\\users\\coola\\appdata\\local\\programs\\python\\python310\\lib\\site-packages (1.24.2)\n",
      "Collecting pandas\n",
      "  Using cached pandas-1.5.3-cp310-cp310-win_amd64.whl (10.4 MB)\n",
      "Collecting pytz>=2020.1\n",
      "  Using cached pytz-2022.7.1-py2.py3-none-any.whl (499 kB)\n",
      "Requirement already satisfied: numpy>=1.21.0 in c:\\users\\coola\\appdata\\local\\programs\\python\\python310\\lib\\site-packages (from pandas) (1.24.2)\n",
      "Requirement already satisfied: python-dateutil>=2.8.1 in c:\\users\\coola\\appdata\\roaming\\python\\python310\\site-packages (from pandas) (2.8.2)\n",
      "Requirement already satisfied: six>=1.5 in c:\\users\\coola\\appdata\\roaming\\python\\python310\\site-packages (from python-dateutil>=2.8.1->pandas) (1.16.0)\n",
      "Installing collected packages: pytz, pandas\n",
      "Successfully installed pandas-1.5.3 pytz-2022.7.1\n",
      "Collecting requests\n",
      "  Using cached requests-2.28.2-py3-none-any.whl (62 kB)\n",
      "Collecting urllib3<1.27,>=1.21.1\n",
      "  Using cached urllib3-1.26.14-py2.py3-none-any.whl (140 kB)\n",
      "Collecting certifi>=2017.4.17\n",
      "  Using cached certifi-2022.12.7-py3-none-any.whl (155 kB)\n",
      "Requirement already satisfied: idna<4,>=2.5 in c:\\users\\coola\\appdata\\local\\programs\\python\\python310\\lib\\site-packages (from requests) (3.4)\n",
      "Collecting charset-normalizer<4,>=2\n",
      "  Downloading charset_normalizer-3.0.1-cp310-cp310-win_amd64.whl (96 kB)\n",
      "     ---------------------------------------- 0.0/96.5 kB ? eta -:--:--\n",
      "     ---------------------------------------- 96.5/96.5 kB 5.4 MB/s eta 0:00:00\n",
      "Installing collected packages: charset-normalizer, urllib3, certifi, requests\n",
      "Successfully installed certifi-2022.12.7 charset-normalizer-3.0.1 requests-2.28.2 urllib3-1.26.14\n"
     ]
    }
   ],
   "source": [
    "!pip install bs4\n",
    "!pip install numpy \n",
    "!pip install pandas\n",
    "!pip install requests"
   ]
  },
  {
   "cell_type": "markdown",
   "id": "1c8b34c2",
   "metadata": {},
   "source": [
    "## Importing the required packages"
   ]
  },
  {
   "cell_type": "code",
   "execution_count": 2,
   "id": "f79287a7",
   "metadata": {},
   "outputs": [],
   "source": [
    "import json\n",
    "import numpy as np\n",
    "import pandas as pd\n",
    "import re\n",
    "import requests\n",
    "from bs4 import BeautifulSoup\n",
    "import csv"
   ]
  },
  {
   "cell_type": "markdown",
   "id": "916c3193",
   "metadata": {},
   "source": [
    "#### Importing the dataset from Json file"
   ]
  },
  {
   "cell_type": "code",
   "execution_count": 3,
   "id": "c647b5df",
   "metadata": {},
   "outputs": [],
   "source": [
    "def read_file():\n",
    "    a = \"gg2015.json\"\n",
    "    df_original = pd.read_json(a)\n",
    "    print(len(df_original))\n",
    "    \n",
    "    # Creating a copy of the dataframe for manipulating\n",
    "    df = df_original.copy()\n",
    "    \n",
    "    # Creating a list of text for finding hosts\n",
    "    text_host = df['text'].tolist()\n",
    "    return(text_host)"
   ]
  },
  {
   "cell_type": "code",
   "execution_count": 13,
   "id": "fed20501",
   "metadata": {},
   "outputs": [],
   "source": [
    "# df_test = read_file()\n",
    "# print(type(df_test))\n",
    "# print(df_test[:5])"
   ]
  },
  {
   "cell_type": "markdown",
   "id": "90349342",
   "metadata": {},
   "source": [
    "#### Preprocessing the data and converting it into a required list "
   ]
  },
  {
   "cell_type": "code",
   "execution_count": 6,
   "id": "fd022857",
   "metadata": {},
   "outputs": [],
   "source": [
    "# Preprocessing data\n",
    "def preprocessing(data):\n",
    "    processed_data = []\n",
    "    remove_list = ['think', 'thinking', 'should', 'would', 'maybe', 'could']\n",
    "    for i in data:\n",
    "        for j in remove_list:\n",
    "            if j not in i:\n",
    "                processed_data.append(i)\n",
    "    remove_words_list = ['golden', 'globe', 'globes']\n",
    "    for i in range(len(processed_data)):\n",
    "        for j in remove_words_list:\n",
    "            processed_data[i] = re.sub(j, '', processed_data[i], flags = re.IGNORECASE)\n",
    "    return processed_data"
   ]
  },
  {
   "cell_type": "code",
   "execution_count": 7,
   "id": "bd8b6da8",
   "metadata": {},
   "outputs": [],
   "source": [
    "# df_1 = preprocessing(df_test)\n",
    "# print(df_1[:5])\n",
    "# print(len(df_1))"
   ]
  },
  {
   "cell_type": "markdown",
   "id": "c3d553ab",
   "metadata": {},
   "source": [
    "#### Scraping the Top 1000 Actors and Actresses from the IMDB website"
   ]
  },
  {
   "cell_type": "code",
   "execution_count": 8,
   "id": "387028dc",
   "metadata": {},
   "outputs": [],
   "source": [
    "def scrape_actors():\n",
    "    actorNames = []\n",
    "    for single_page in range(1, 11):\n",
    "        URL = f\"https://www.imdb.com/list/ls058011111/?sort=list_order,asc&mode=detail&page={single_page}\"\n",
    "        r = requests.get(URL)\n",
    "        soup = BeautifulSoup(r.text, 'html.parser')\n",
    "        actorName = soup.find_all('h3',{'class':'lister-item-header'})\n",
    "        actorName = [i.find('a').text.strip() for i in actorName]\n",
    "        actorNames.extend(actorName)\n",
    "    return actorNames"
   ]
  },
  {
   "cell_type": "code",
   "execution_count": 9,
   "id": "97fa295c",
   "metadata": {},
   "outputs": [],
   "source": [
    "# scrape_list = scrape_actors()\n",
    "# print(scrape_list[:5])\n",
    "# print(len(scrape_list))"
   ]
  },
  {
   "cell_type": "markdown",
   "id": "00c15f63",
   "metadata": {},
   "source": [
    "### Extracting Hosts name from the Tweet text"
   ]
  },
  {
   "cell_type": "code",
   "execution_count": 10,
   "id": "35768585",
   "metadata": {},
   "outputs": [],
   "source": [
    "# Finding Hosts\n",
    "def get_hosts(data, actorNames):\n",
    "    match = ''\n",
    "    result={}\n",
    "    for i in range(len(data)):\n",
    "        found = re.search('(H|h)ost', data[i])\n",
    "        if found:\n",
    "            patt = re.compile(r'[A-Z][a-z]+ [A-Z][a-z]+')\n",
    "            matches = patt.findall(data[i])\n",
    "            for match in matches:\n",
    "                if match in actorNames:\n",
    "                    if match in result:\n",
    "                        result[match] += 1\n",
    "                    else:\n",
    "                        result[match] = 1\n",
    "    sorted_hosts = sorted(result.items(), key=lambda x:x[1], reverse=True)\n",
    "    return(sorted_hosts[0:2])"
   ]
  },
  {
   "cell_type": "code",
   "execution_count": 11,
   "id": "3658afdd",
   "metadata": {},
   "outputs": [],
   "source": [
    "# host = get_hosts(df_1, scrape_list)\n",
    "# print(host)"
   ]
  },
  {
   "cell_type": "markdown",
   "id": "79679705",
   "metadata": {},
   "source": [
    "### Hurrah! We have successfully extracted the hosts name from the tweet text"
   ]
  },
  {
   "cell_type": "markdown",
   "id": "22bb015e",
   "metadata": {},
   "source": [
    "##### Extracting the awards from the tweet text and storing it in a list"
   ]
  },
  {
   "cell_type": "code",
   "execution_count": 12,
   "id": "77de122d",
   "metadata": {},
   "outputs": [],
   "source": [
    "def get_awards(data):\n",
    "    match = ''\n",
    "    result = {}\n",
    "    for i in range(len(data)):\n",
    "        found = re.search('(B|b)est', data[i])\n",
    "        if found:\n",
    "            found1 = re.search(r'\\bWin\\b | \\bWins\\b | \\bwin\\b | \\bwins\\b | \\bgoes to\\b|', data[i])\n",
    "            if found1:\n",
    "                patt = re.compile(r'Best [A-Z][a-z]+ [A-Z*a-z ]+ - [A-Z*a-z ]+')\n",
    "                matches = patt.findall(data[i])\n",
    "                for match in matches:\n",
    "                    if match.title() in result:\n",
    "                        result[match.title()] += 1\n",
    "                    else:\n",
    "                        result[match.title()] = 1\n",
    "    sorted_awards = sorted(result.items(), key=lambda x:x[1], reverse=True)\n",
    "    return(sorted_awards[0:50])"
   ]
  },
  {
   "cell_type": "code",
   "execution_count": 13,
   "id": "59cb29ab",
   "metadata": {},
   "outputs": [],
   "source": [
    "# awards = get_awards(df_1)\n",
    "# print(awards[:5])\n",
    "# print(len(awards))"
   ]
  },
  {
   "cell_type": "markdown",
   "id": "9335984d",
   "metadata": {},
   "source": [
    "##### we have found the awards but it is not in the required format and it has some extra characters (noise) in it"
   ]
  },
  {
   "cell_type": "markdown",
   "id": "05b796c8",
   "metadata": {},
   "source": [
    "### Searching for the Presenters name in the tweet text"
   ]
  },
  {
   "cell_type": "code",
   "execution_count": 14,
   "id": "fa4e0bd7",
   "metadata": {},
   "outputs": [],
   "source": [
    "# Finding Presenters\n",
    "def get_presenters(data, actorNames):\n",
    "    match = ''\n",
    "    result={}\n",
    "    for i in range(len(data)):\n",
    "        found = re.search('(P|p)resent(ing|ed|er|ers)', data[i])\n",
    "        if found:\n",
    "            patt = re.compile(r'[A-Z][a-z]+ [A-Z][a-z]+')\n",
    "            matches = patt.findall(data[i])\n",
    "            for match in matches:\n",
    "                if match in actorNames:\n",
    "                    if match in result:\n",
    "                        result[match] += 1\n",
    "                    else:\n",
    "                        result[match] = 1\n",
    "    sorted_presenters = sorted(result.items(), key=lambda x:x[1], reverse=True)\n",
    "    return(sorted_presenters[0:15])"
   ]
  },
  {
   "cell_type": "code",
   "execution_count": 15,
   "id": "3e723e9a",
   "metadata": {},
   "outputs": [],
   "source": [
    "# presenters = get_presenters(df_1, scrape_list)\n",
    "# print(presenters[:5])\n",
    "# print(len(presenters))"
   ]
  },
  {
   "cell_type": "markdown",
   "id": "c32423dc",
   "metadata": {},
   "source": [
    "#### Nominees for all the awards"
   ]
  },
  {
   "cell_type": "code",
   "execution_count": 16,
   "id": "19214e8c",
   "metadata": {},
   "outputs": [],
   "source": [
    "# Finding Nominees\n",
    "def get_nominees(data, actorNames):\n",
    "    match = ''\n",
    "    result={}\n",
    "    for i in range(len(data)):\n",
    "        found = re.search('(N|n)omin(ee|ees|ated)', data[i])\n",
    "        if found:\n",
    "            patt = re.compile(r'[A-Z][a-z]+ [A-Z][a-z]+')\n",
    "            matches = patt.findall(data[i])\n",
    "            for match in matches:\n",
    "                if match in actorNames:\n",
    "                    if match in result:\n",
    "                        result[match] += 1\n",
    "                    else:\n",
    "                        result[match] = 1\n",
    "    sorted_presenters = sorted(result.items(), key=lambda x:x[1], reverse=True)\n",
    "    return(sorted_presenters[0:100])"
   ]
  },
  {
   "cell_type": "code",
   "execution_count": 17,
   "id": "dae356d5",
   "metadata": {},
   "outputs": [],
   "source": [
    "# nom = get_nominees(df_1, scrape_list)\n",
    "# print(nom[:5])\n",
    "# print(len(nom))"
   ]
  },
  {
   "cell_type": "markdown",
   "id": "831e018f",
   "metadata": {},
   "source": [
    "#### Finally Winners of all the awards"
   ]
  },
  {
   "cell_type": "code",
   "execution_count": 18,
   "id": "98d963a9",
   "metadata": {},
   "outputs": [],
   "source": [
    "def get_winners(data, awards, actorNames):\n",
    "    match = ''\n",
    "    result = {}\n",
    "    for i in range(len(data)):\n",
    "        for j in range(len(awards)):\n",
    "            found = re.search(awards[j][0].lower(), data[i].lower())\n",
    "            if found:\n",
    "                found1 = re.search(r'\\bWin\\b | \\bWins\\b | \\bwin\\b | \\bwins\\b | \\bgoes to\\b|', data[i])\n",
    "                if found1:\n",
    "                    patt = re.compile(r'[A-Z][a-z]+ [A-Z][a-z]+')\n",
    "                    matches = patt.findall(data[i])\n",
    "                    for match in matches:\n",
    "                        if match in actorNames:\n",
    "                            if match.title() in result:\n",
    "                                result[match.title()] += 1\n",
    "                            else:\n",
    "                                result[match.title()] = 1\n",
    "    sorted_awards = sorted(result.items(), key=lambda x:x[1], reverse=True)\n",
    "    return(sorted_awards[0:50])"
   ]
  },
  {
   "cell_type": "code",
   "execution_count": 19,
   "id": "11680078",
   "metadata": {},
   "outputs": [],
   "source": [
    "# winnerslist = get_winners(df_1, awards, scrape_list)\n",
    "# print(winnerslist[:5])\n",
    "# print(len(winnerslist))"
   ]
  },
  {
   "cell_type": "code",
   "execution_count": 20,
   "id": "68801954",
   "metadata": {},
   "outputs": [],
   "source": [
    "def report(hosts, awards, presenters, nominees, winners):\n",
    "    \n",
    "    print('Hosts: ')\n",
    "    for i in hosts:\n",
    "        print(i[0])\n",
    "    print()\n",
    "    print('Presenters: ')\n",
    "    for i in presenters:\n",
    "        print(i[0])\n",
    "    print()\n",
    "    print('Award Names: ')\n",
    "    for i in awards:\n",
    "        print(i[0])\n",
    "    print()\n",
    "    print('Nominees: ')\n",
    "    for i in nominees:\n",
    "        print(i[0])\n",
    "    print()\n",
    "    print('Winners: ')\n",
    "    for i in winners:\n",
    "        print(i[0])\n",
    "    print()"
   ]
  },
  {
   "cell_type": "code",
   "execution_count": 21,
   "id": "06498e6b",
   "metadata": {
    "scrolled": true
   },
   "outputs": [
    {
     "name": "stdout",
     "output_type": "stream",
     "text": [
      "1754153\n",
      "Hosts: \n",
      "Amy Poehler\n",
      "Tina Fey\n",
      "\n",
      "Presenters: \n",
      "Jennifer Aniston\n",
      "Salma Hayek\n",
      "Dakota Johnson\n",
      "Naomi Watts\n",
      "Benedict Cumberbatch\n",
      "Meryl Streep\n",
      "Tina Fey\n",
      "Katie Holmes\n",
      "Jennifer Lopez\n",
      "Kate Hudson\n",
      "Amy Poehler\n",
      "Paul Rudd\n",
      "Bill Hader\n",
      "Kevin Hart\n",
      "Jeremy Renner\n",
      "\n",
      "Award Names: \n",
      "Best Actor In A Motion Picture - Drama \n",
      "Best Motion Picture - Comedy Or Musical \n",
      "Best Supporting Actor In A Television Series - Matt Bomer \n",
      "Best Television Series Actor - Drama \n",
      "Best Actress In A Motion Picture - Comedy Or Musical \n",
      "Best Motion Picture - Drama \n",
      "Best Actress In A Motion Picture - Drama \n",
      "Best Animated Feature Film - How To Train Your Dragon \n",
      "Best Actor In A Motion Picture - Comedy Or Musical \n",
      "Best Supporting Actor In A Motion Picture - J\n",
      "Best Supporting Actress In A Motion Picture - Patricia Arquette  \n",
      "Best Miniseries Or Motion Picture Made For Television - Fargo \n",
      "Best Actor In A Tv Movie Or Miniseries - Billy Bob Thornton  \n",
      "Best Actress In A Tv Movie Or Miniseries - Maggie Gyllenhaal \n",
      "Best Foreign Film - Leviathan \n",
      "Best Television Series - Drama \n",
      "Best Actor In A Television Series - Comedy Or Musical \n",
      "Best Television Series - Comedy Or Musical \n",
      "Best Actress In A Television Series - Drama \n",
      "Best Motion Picture - Drama\n",
      "Best Motion Picture - Musical Or Comedy\n",
      "Best Performance By An Actor In A Television Series - Drama\n",
      "Best Actor In A Motion Picture - Drama\n",
      "Best Actor In A Motion Picture - Musical Or Comedy\n",
      "Best Original Song - Motion Picture\n",
      "Best Original Song - Motion Picture Goes To \n",
      "Best Performance By An Actress In A Motion Picture - Drama\n",
      "Best Original Song - Motion Picture \n",
      "Best Performance By An Actor In A Motion Picture - Drama\n",
      "Best Motion Picture - Comedy Or Musical Http\n",
      "Best Television Series - Musical Or Comedy\n",
      "Best Television Series - Drama\n",
      "Best Performance By An Actor In A Tv Series - Musical Or Comedy\n",
      "Best Performance By An Actress In A Television Series - Drama\n",
      "Best Motion Picture - Comedy\n",
      "Best Original Score - Motion Picture Goes To J\n",
      "Best Motion Picture - Drama Http\n",
      "Best Original Song - Motion Picture For \n",
      "Best Original Score - Motion Picture Win\n",
      "Best Motion Picture - Comedy Or Musical\n",
      "Best Original Song - Lana Del Rey \n",
      "Best Supporting Actress In A Motion Picture - Patricia Arquette \n",
      "Best Original Song - Motion Picture Http\n",
      "Best Television Series - Drama At The \n",
      "Best Motion Picture - Comedy \n",
      "Best Miniseries At The  S - Variety Http\n",
      "Best Original Score - Motion Picture Http\n",
      "Best Original Score - Motion Picture For \n",
      "Best Actress In A Motion Picture - Drama\n",
      "Best Motion Picture - Drama Goes To \n",
      "\n",
      "Nominees: \n",
      "George Clooney\n",
      "Kevin Spacey\n",
      "Amy Adams\n",
      "Bill Murray\n",
      "Rosamund Pike\n",
      "Meryl Streep\n",
      "Julianne Moore\n",
      "Christoph Waltz\n",
      "Amy Poehler\n",
      "Jennifer Aniston\n",
      "Benedict Cumberbatch\n",
      "Eddie Redmayne\n",
      "Keira Knightley\n",
      "Jake Gyllenhaal\n",
      "Felicity Jones\n",
      "James Spader\n",
      "Channing Tatum\n",
      "Don Cheadle\n",
      "Jessica Lange\n",
      "Jessica Chastain\n",
      "Viola Davis\n",
      "Naomi Watts\n",
      "Maggie Gyllenhaal\n",
      "Jeremy Renner\n",
      "Emma Stone\n",
      "Michael Keaton\n",
      "Kate Hudson\n",
      "Michael Fassbender\n",
      "Patricia Arquette\n",
      "David Oyelowo\n",
      "Ethan Hawke\n",
      "Helen Mirren\n",
      "Emily Blunt\n",
      "Allison Janney\n",
      "Kathy Bates\n",
      "Kate Mara\n",
      "Harrison Ford\n",
      "Bill Hader\n",
      "Claire Danes\n",
      "Reese Witherspoon\n",
      "Kristen Wiig\n",
      "Chris Pine\n",
      "Clive Owen\n",
      "Mark Ruffalo\n",
      "Tina Fey\n",
      "Jennifer Lopez\n",
      "Jack Black\n",
      "Scarlett Johansson\n",
      "Kevin Hart\n",
      "Jennifer Lawrence\n",
      "Steve Carell\n",
      "Peter Dinklage\n",
      "Liev Schreiber\n",
      "Edward Norton\n",
      "Owen Wilson\n",
      "Robert Duvall\n",
      "Paul Rudd\n",
      "Kerry Washington\n",
      "Jane Fonda\n",
      "Kate Beckinsale\n",
      "Jon Voight\n",
      "Katherine Heigl\n",
      "Ralph Fiennes\n",
      "Angelina Jolie\n",
      "Lily Tomlin\n",
      "Charlie Hunnam\n",
      "Jared Leto\n",
      "Jon Hamm\n",
      "Katie Holmes\n",
      "Anna Kendrick\n",
      "Bradley Cooper\n",
      "Salma Hayek\n",
      "Gwyneth Paltrow\n",
      "Robin Wright\n",
      "Angela Bassett\n",
      "Tom Cruise\n",
      "Lisa Kudrow\n",
      "Anna Faris\n",
      "June Squibb\n",
      "Katharine Hepburn\n",
      "Michelle Monaghan\n",
      "Oscar Isaac\n",
      "Chris Rock\n",
      "Colin Farrell\n",
      "Chris Pratt\n",
      "Ben Affleck\n",
      "Bryan Cranston\n",
      "Mindy Kaling\n",
      "Hilary Swank\n",
      "Jeff Goldblum\n",
      "Will Smith\n",
      "John Krasinski\n",
      "Liam Neeson\n",
      "Shailene Woodley\n",
      "Rene Russo\n",
      "Colin Firth\n",
      "Vince Vaughn\n",
      "Richard Jenkins\n",
      "Chris Evans\n",
      "Adrien Brody\n",
      "\n",
      "Winners: \n",
      "Julianne Moore\n",
      "Patricia Arquette\n",
      "Kevin Spacey\n",
      "Amy Adams\n",
      "Michael Keaton\n",
      "Maggie Gyllenhaal\n",
      "Eddie Redmayne\n",
      "Henry Cavill\n",
      "Jennifer Aniston\n",
      "Benedict Cumberbatch\n",
      "Rosamund Pike\n",
      "Emily Blunt\n",
      "Jamie Foxx\n",
      "Felicity Jones\n",
      "\n"
     ]
    }
   ],
   "source": [
    "text_host = read_file()\n",
    "text_host1 = preprocessing(text_host)\n",
    "actorNames = scrape_actors()\n",
    "hosts = get_hosts(text_host1, actorNames)\n",
    "awards = get_awards(text_host1)\n",
    "presenters = get_presenters(text_host1,actorNames)\n",
    "nominees = get_nominees(text_host1, actorNames)\n",
    "winners = get_winners(text_host1, awards, actorNames)\n",
    "report(hosts, awards, presenters, nominees, winners)"
   ]
  },
  {
   "cell_type": "code",
   "execution_count": 25,
   "id": "66e827fc",
   "metadata": {},
   "outputs": [
    {
     "name": "stdout",
     "output_type": "stream",
     "text": [
      "Presenters: \n",
      "Jennifer Aniston\n",
      "Salma Hayek\n",
      "Dakota Johnson\n",
      "Naomi Watts\n",
      "Benedict Cumberbatch\n",
      "Meryl Streep\n",
      "Tina Fey\n",
      "Katie Holmes\n",
      "Jennifer Lopez\n",
      "Kate Hudson\n",
      "Amy Poehler\n",
      "Paul Rudd\n",
      "Bill Hader\n",
      "Kevin Hart\n",
      "Jeremy Renner\n",
      "\n"
     ]
    }
   ],
   "source": [
    "print('Presenters: ')\n",
    "for i in presenters:\n",
    "    print(i[0])\n",
    "print()"
   ]
  },
  {
   "cell_type": "code",
   "execution_count": 23,
   "id": "239f371d",
   "metadata": {},
   "outputs": [
    {
     "name": "stdout",
     "output_type": "stream",
     "text": [
      "Presenters: \n",
      "Jennifer Aniston\n",
      "Salma Hayek\n",
      "Dakota Johnson\n",
      "Naomi Watts\n",
      "Benedict Cumberbatch\n",
      "Meryl Streep\n",
      "Tina Fey\n",
      "Katie Holmes\n",
      "Jennifer Lopez\n",
      "Kate Hudson\n",
      "Amy Poehler\n",
      "Paul Rudd\n",
      "Bill Hader\n",
      "Kevin Hart\n",
      "Jeremy Renner\n",
      "\n"
     ]
    }
   ],
   "source": [
    "print('Presenters: ')\n",
    "for i in presenters:\n",
    "    print(i[0])\n",
    "print()"
   ]
  },
  {
   "cell_type": "code",
   "execution_count": 24,
   "id": "252ccc26",
   "metadata": {},
   "outputs": [
    {
     "name": "stdout",
     "output_type": "stream",
     "text": [
      "Award Names: \n",
      "Best Actor In A Motion Picture - Drama \n",
      "Best Motion Picture - Comedy Or Musical \n",
      "Best Supporting Actor In A Television Series - Matt Bomer \n",
      "Best Television Series Actor - Drama \n",
      "Best Actress In A Motion Picture - Comedy Or Musical \n",
      "Best Motion Picture - Drama \n",
      "Best Actress In A Motion Picture - Drama \n",
      "Best Animated Feature Film - How To Train Your Dragon \n",
      "Best Actor In A Motion Picture - Comedy Or Musical \n",
      "Best Supporting Actor In A Motion Picture - J\n",
      "Best Supporting Actress In A Motion Picture - Patricia Arquette  \n",
      "Best Miniseries Or Motion Picture Made For Television - Fargo \n",
      "Best Actor In A Tv Movie Or Miniseries - Billy Bob Thornton  \n",
      "Best Actress In A Tv Movie Or Miniseries - Maggie Gyllenhaal \n",
      "Best Foreign Film - Leviathan \n",
      "Best Television Series - Drama \n",
      "Best Actor In A Television Series - Comedy Or Musical \n",
      "Best Television Series - Comedy Or Musical \n",
      "Best Actress In A Television Series - Drama \n",
      "Best Motion Picture - Drama\n",
      "Best Motion Picture - Musical Or Comedy\n",
      "Best Performance By An Actor In A Television Series - Drama\n",
      "Best Actor In A Motion Picture - Drama\n",
      "Best Actor In A Motion Picture - Musical Or Comedy\n",
      "Best Original Song - Motion Picture\n",
      "Best Original Song - Motion Picture Goes To \n",
      "Best Performance By An Actress In A Motion Picture - Drama\n",
      "Best Original Song - Motion Picture \n",
      "Best Performance By An Actor In A Motion Picture - Drama\n",
      "Best Motion Picture - Comedy Or Musical Http\n",
      "Best Television Series - Musical Or Comedy\n",
      "Best Television Series - Drama\n",
      "Best Performance By An Actor In A Tv Series - Musical Or Comedy\n",
      "Best Performance By An Actress In A Television Series - Drama\n",
      "Best Motion Picture - Comedy\n",
      "Best Original Score - Motion Picture Goes To J\n",
      "Best Motion Picture - Drama Http\n",
      "Best Original Song - Motion Picture For \n",
      "Best Original Score - Motion Picture Win\n",
      "Best Motion Picture - Comedy Or Musical\n",
      "Best Original Song - Lana Del Rey \n",
      "Best Supporting Actress In A Motion Picture - Patricia Arquette \n",
      "Best Original Song - Motion Picture Http\n",
      "Best Television Series - Drama At The \n",
      "Best Motion Picture - Comedy \n",
      "Best Miniseries At The  S - Variety Http\n",
      "Best Original Score - Motion Picture Http\n",
      "Best Original Score - Motion Picture For \n",
      "Best Actress In A Motion Picture - Drama\n",
      "Best Motion Picture - Drama Goes To \n",
      "\n"
     ]
    }
   ],
   "source": [
    "print('Award Names: ')\n",
    "for i in awards:\n",
    "    print(i[0])\n",
    "print()"
   ]
  },
  {
   "cell_type": "code",
   "execution_count": null,
   "id": "2820fbbc",
   "metadata": {},
   "outputs": [],
   "source": []
  }
 ],
 "metadata": {
  "kernelspec": {
   "display_name": "Python 3 (ipykernel)",
   "language": "python",
   "name": "python3"
  },
  "language_info": {
   "codemirror_mode": {
    "name": "ipython",
    "version": 3
   },
   "file_extension": ".py",
   "mimetype": "text/x-python",
   "name": "python",
   "nbconvert_exporter": "python",
   "pygments_lexer": "ipython3",
   "version": "3.11.1"
  },
  "vscode": {
   "interpreter": {
    "hash": "5c3b18ba5c2576abae90977218ceffdd7d33c73d774a4fcd26485888a6ec8c71"
   }
  }
 },
 "nbformat": 4,
 "nbformat_minor": 5
}
